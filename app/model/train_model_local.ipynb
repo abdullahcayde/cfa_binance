{
 "cells": [
  {
   "cell_type": "code",
   "execution_count": 1,
   "id": "cb1cae15-b960-4a73-977f-19ca7d1a8dc1",
   "metadata": {},
   "outputs": [],
   "source": [
    "import pandas as pd\n",
    "from pmdarima.arima import auto_arima\n",
    "import joblib\n",
    "import sys\n",
    "sys.path.append('/Users/macbook/Desktop/projects/Github_Repositories/cfa_binance/docs')\n",
    "from config import path_data_proceed, path_models \n",
    "\n",
    "\n",
    "# Read Daily Data , Asset1, Asset2, Asset3\n",
    "df = pd.read_csv(f'{path_data_proceed}/daily_proceed_all.csv')\n",
    "df01 = df.loc[df.id_asset == 1]\n",
    "df02 = df.loc[df.id_asset == 2]\n",
    "df03 = df.loc[df.id_asset == 3]\n",
    "\n",
    "# Create Pkl \n",
    "def pkl_model(df, model_name):\n",
    "    # Train Data\n",
    "    train_df = df[0:]['close']\n",
    "    train_data = list(train_df)\n",
    "\n",
    "    # Fit ARIMA model\n",
    "    arima = auto_arima(train_data)\n",
    "\n",
    "    # Serialize with joblib\n",
    "    joblib.dump(arima, f'{path_models}/{model_name}.pkl')\n",
    "\n",
    "# Create all pkl models\n",
    "pkl_model(df01, 'arima01')\n",
    "pkl_model(df02, 'arima02')\n",
    "pkl_model(df03, 'arima03')"
   ]
  },
  {
   "cell_type": "code",
   "execution_count": null,
   "id": "2e61b370-bae8-41c4-aae9-9cd778d3fb87",
   "metadata": {},
   "outputs": [],
   "source": []
  }
 ],
 "metadata": {
  "kernelspec": {
   "display_name": "Python 3.10.9 (Visual Studio)",
   "language": "python",
   "name": "visualstudio"
  },
  "language_info": {
   "codemirror_mode": {
    "name": "ipython",
    "version": 3
   },
   "file_extension": ".py",
   "mimetype": "text/x-python",
   "name": "python",
   "nbconvert_exporter": "python",
   "pygments_lexer": "ipython3",
   "version": "3.10.9"
  }
 },
 "nbformat": 4,
 "nbformat_minor": 5
}
